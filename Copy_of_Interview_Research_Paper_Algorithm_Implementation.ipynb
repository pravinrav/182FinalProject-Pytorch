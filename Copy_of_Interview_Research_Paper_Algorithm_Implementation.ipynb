{
  "cells": [
    {
      "cell_type": "markdown",
      "metadata": {
        "id": "view-in-github",
        "colab_type": "text"
      },
      "source": [
        "<a href=\"https://colab.research.google.com/github/pravinrav/182FinalProject-Pytorch/blob/master/Copy_of_Interview_Research_Paper_Algorithm_Implementation.ipynb\" target=\"_parent\"><img src=\"https://colab.research.google.com/assets/colab-badge.svg\" alt=\"Open In Colab\"/></a>"
      ]
    },
    {
      "cell_type": "markdown",
      "metadata": {
        "id": "uzQMLbQt6u5f"
      },
      "source": [
        "# Research Paper Algorithm Implementation\n",
        "\n",
        "In this interview task, you will be assessed on your ability to take some defined algorithm from a general description and implement a solution that best characterizes the provided description.\n",
        "\n",
        "The goal of this interview is to evaluate your skills in understanding the problem, development process, and writing test cases to verify and check the implementation for correctness."
      ]
    },
    {
      "cell_type": "markdown",
      "metadata": {
        "id": "QEGoqz8H6u5h"
      },
      "source": [
        "## Problem Statement\n",
        "The field of Topological Data Analysis (TDA) makes use of Toplogy for finding inherent structures of the data using techniques from topology.\n",
        "\n",
        "**Definition from Wikipedia:**\n",
        "\n",
        "```In mathematics, topology (from the Greek words τόπος, 'place, location', and λόγος, 'study') is concerned with the properties of a geometric object that are preserved under continuous deformations, such as stretching, twisting, crumpling, and bending; that is, without closing holes, opening holes, tearing, gluing, or passing through itself. ```\n",
        "\n",
        "In other words, we are concerned with the \"shape\" of the data.\n",
        "\n",
        "One concept that comes up in topology is what is known as **persistent homology**, which concretely means the following definition:\n",
        "\n",
        "`As one increases a threshold, at what scale do we observe changes in some representation of the data?`"
      ]
    },
    {
      "cell_type": "markdown",
      "metadata": {
        "id": "lbkd1Lob6u5i"
      },
      "source": [
        "Suppose we have a data set of $X \\in \\Bbb{R}^2$ and define a parameter $\\epsilon \\in \\Bbb{R}$ (where $\\epsilon > 0$), which is a variable which defines the radius that can be used to draw a circular boundary from the given point $x$. As we vary the size of the $\\epsilon$ threshold, when the circular boundary drawn from $\\epsilon$ between two data points either touches or intersects (overlaps), we can create a connection between the dataset. As the dataset begins to form these connected components, we can define the \"lifetime\" of the connected components as showcased by these \"bars\" below\n",
        "\n",
        "![](https://onlinelibrary.wiley.com/cms/asset/82e1700a-744f-4a2a-ab80-ffe6f452633e/spe2678-fig-0001-m.jpg)"
      ]
    },
    {
      "cell_type": "markdown",
      "metadata": {
        "id": "00MS2KsV6u5i"
      },
      "source": [
        "Use the provided code template below to check to see if when the data radius touches or intersects with each other, and draw a connected component between the two points in the dataset."
      ]
    },
    {
      "cell_type": "code",
      "execution_count": null,
      "metadata": {
        "id": "UyA6e5s96u5j"
      },
      "outputs": [],
      "source": [
        "import numpy as np\n",
        "import matplotlib.pyplot as plt"
      ]
    },
    {
      "cell_type": "code",
      "execution_count": null,
      "metadata": {
        "id": "SijWS1Ns6u5j"
      },
      "outputs": [],
      "source": [
        "## Generate Arbitrary Dataset\n",
        "# Parameters\n",
        "n = 100\n",
        "\n",
        "# Generate 2D Random Dataset\n",
        "X = np.random.rand(n, 2)"
      ]
    },
    {
      "cell_type": "code",
      "execution_count": null,
      "metadata": {
        "id": "xhbyUDU56u5k",
        "outputId": "c470b2ba-30e4-4df1-8f4e-e38973879dbd",
        "colab": {
          "base_uri": "https://localhost:8080/",
          "height": 324
        }
      },
      "outputs": [
        {
          "output_type": "display_data",
          "data": {
            "image/png": "[encoded data removed]",
            "text/plain": [
              "<Figure size 360x360 with 1 Axes>"
            ]
          },
          "metadata": {
            "needs_background": "light"
          }
        }
      ],
      "source": [
        "# Plot Initial Dataset\n",
        "plt.figure(figsize=(5,5))\n",
        "plt.scatter(X[:, 0], X[:, 1], s=2)\n",
        "\n",
        "plt.xlim([0, 1])\n",
        "plt.ylim([0, 1])\n",
        "\n",
        "plt.show()"
      ]
    },
    {
      "cell_type": "code",
      "execution_count": null,
      "metadata": {
        "id": "o7xkKP_06u5l"
      },
      "outputs": [],
      "source": [
        "# Visualize Data Intersection with Mapper Radius\n",
        "def visualize_map(data, rad, iteration, radius, draw_circle=False):\n",
        "    # Initialize Graph\n",
        "    fig, ax = plt.subplots(figsize=(5, 5))\n",
        "\n",
        "    # Plot Scatter Graph\n",
        "    ax.scatter(data[:, 0], data[:, 1], s=2)\n",
        "\n",
        "    for i in range(rad.shape[0]):\n",
        "        # Draw Point Radius\n",
        "        if draw_circle:\n",
        "            c = plt.Circle((data[i,0], data[i,1]), rad[i], color='red', fill=False)\n",
        "            ax.add_artist(c)\n",
        "        \n",
        "        \n",
        "        # TODO: Check Intersection of Point Radius!\n",
        "        # Hint: plt.plot([X[i, 0], X[j, 0]], [X[i, 1], X[j, 1]], linewidth=1) to draw the line between the points!\n",
        "\n",
        "        # (x - x0)^2 + (y - y0)^2 = r^2      // This is circle 1\n",
        "        # (x - x1)^2 + (y - y1)^2 = r^2      // This is circle 2\n",
        "\n",
        "        ''' Algebra Solution\n",
        "        constant = X[j, 1]^2  + X[j, 0]^2 - (   X[i, 1]^2  + X[i, 0]^2 )\n",
        "        a_coeff = 2 * (X[j, 0] - X[i, 0])\n",
        "        b_coeff = 2 * (X[j, 1] - X[i, 1])\n",
        "        '''\n",
        "\n",
        "        dist_centers = (X[i, 0] - X[j, 0])^2 + (X[i, 1] - X[j, 1])^2\n",
        "        twice_radius = radius * 2\n",
        "\n",
        "        if dist_centers <= twice_radius:\n",
        "          plt.plot([X[i, 0], X[j, 0]], [X[i, 1], X[j, 1]], linewidth=1)\n",
        "        \n",
        "\n",
        "\n",
        "        \n",
        "                \n",
        "        \n",
        "    plt.xlim([0, 1])\n",
        "    plt.ylim([0, 1])\n",
        "    \n",
        "    plt.title('Radius='+str(('%.3f' % radius)) + ' (Frame='+str(iteration)+')')    \n",
        "    plt.show()"
      ]
    },
    {
      "cell_type": "markdown",
      "source": [
        ""
      ],
      "metadata": {
        "id": "rgal7tM_COk2"
      }
    },
    {
      "cell_type": "markdown",
      "source": [
        ""
      ],
      "metadata": {
        "id": "GpJHqVWh_iBr"
      }
    },
    {
      "cell_type": "code",
      "execution_count": null,
      "metadata": {
        "scrolled": true,
        "id": "bCarYvx16u5m",
        "outputId": "3f2589d5-522f-430a-91ff-c56432886024",
        "colab": {
          "base_uri": "https://localhost:8080/",
          "height": 636
        }
      },
      "outputs": [
        {
          "output_type": "error",
          "ename": "NameError",
          "evalue": "ignored",
          "traceback": [
            "\u001b[0;31m---------------------------------------------------------------------------\u001b[0m",
            "\u001b[0;31mNameError\u001b[0m                                 Traceback (most recent call last)",
            "\u001b[0;32m<ipython-input-5-be1135578fd3>\u001b[0m in \u001b[0;36m<module>\u001b[0;34m()\u001b[0m\n\u001b[1;32m      1\u001b[0m \u001b[0;32mfor\u001b[0m \u001b[0mi\u001b[0m\u001b[0;34m,\u001b[0m \u001b[0mradius\u001b[0m \u001b[0;32min\u001b[0m \u001b[0menumerate\u001b[0m\u001b[0;34m(\u001b[0m\u001b[0mnp\u001b[0m\u001b[0;34m.\u001b[0m\u001b[0marange\u001b[0m\u001b[0;34m(\u001b[0m\u001b[0;36m0\u001b[0m\u001b[0;34m,\u001b[0m \u001b[0;36m0.2\u001b[0m\u001b[0;34m,\u001b[0m \u001b[0;36m0.01\u001b[0m\u001b[0;34m)\u001b[0m\u001b[0;34m)\u001b[0m\u001b[0;34m:\u001b[0m\u001b[0;34m\u001b[0m\u001b[0;34m\u001b[0m\u001b[0m\n\u001b[1;32m      2\u001b[0m     \u001b[0mr\u001b[0m \u001b[0;34m=\u001b[0m \u001b[0mnp\u001b[0m\u001b[0;34m.\u001b[0m\u001b[0mones\u001b[0m\u001b[0;34m(\u001b[0m\u001b[0;34m(\u001b[0m\u001b[0mn\u001b[0m\u001b[0;34m,\u001b[0m \u001b[0;36m1\u001b[0m\u001b[0;34m)\u001b[0m\u001b[0;34m)\u001b[0m \u001b[0;34m*\u001b[0m \u001b[0mradius\u001b[0m\u001b[0;34m\u001b[0m\u001b[0;34m\u001b[0m\u001b[0m\n\u001b[0;32m----> 3\u001b[0;31m     \u001b[0mvisualize_map\u001b[0m\u001b[0;34m(\u001b[0m\u001b[0mX\u001b[0m\u001b[0;34m,\u001b[0m \u001b[0mr\u001b[0m\u001b[0;34m,\u001b[0m \u001b[0mi\u001b[0m\u001b[0;34m,\u001b[0m \u001b[0mradius\u001b[0m\u001b[0;34m,\u001b[0m \u001b[0;32mTrue\u001b[0m\u001b[0;34m)\u001b[0m\u001b[0;34m\u001b[0m\u001b[0;34m\u001b[0m\u001b[0m\n\u001b[0m",
            "\u001b[0;32m<ipython-input-4-49c2dcf4d9c8>\u001b[0m in \u001b[0;36mvisualize_map\u001b[0;34m(data, rad, iteration, radius, draw_circle)\u001b[0m\n\u001b[1;32m     26\u001b[0m         '''\n\u001b[1;32m     27\u001b[0m \u001b[0;34m\u001b[0m\u001b[0m\n\u001b[0;32m---> 28\u001b[0;31m         \u001b[0mdist_centers\u001b[0m \u001b[0;34m=\u001b[0m \u001b[0;34m(\u001b[0m\u001b[0mX\u001b[0m\u001b[0;34m[\u001b[0m\u001b[0mi\u001b[0m\u001b[0;34m,\u001b[0m \u001b[0;36m0\u001b[0m\u001b[0;34m]\u001b[0m \u001b[0;34m-\u001b[0m \u001b[0mX\u001b[0m\u001b[0;34m[\u001b[0m\u001b[0mj\u001b[0m\u001b[0;34m,\u001b[0m \u001b[0;36m0\u001b[0m\u001b[0;34m]\u001b[0m\u001b[0;34m)\u001b[0m\u001b[0;34m^\u001b[0m\u001b[0;36m2\u001b[0m \u001b[0;34m+\u001b[0m \u001b[0;34m(\u001b[0m\u001b[0mX\u001b[0m\u001b[0;34m[\u001b[0m\u001b[0mi\u001b[0m\u001b[0;34m,\u001b[0m \u001b[0;36m1\u001b[0m\u001b[0;34m]\u001b[0m \u001b[0;34m-\u001b[0m \u001b[0mX\u001b[0m\u001b[0;34m[\u001b[0m\u001b[0mj\u001b[0m\u001b[0;34m,\u001b[0m \u001b[0;36m1\u001b[0m\u001b[0;34m]\u001b[0m\u001b[0;34m)\u001b[0m\u001b[0;34m^\u001b[0m\u001b[0;36m2\u001b[0m\u001b[0;34m\u001b[0m\u001b[0;34m\u001b[0m\u001b[0m\n\u001b[0m\u001b[1;32m     29\u001b[0m         \u001b[0mtwice_radius\u001b[0m \u001b[0;34m=\u001b[0m \u001b[0mradius\u001b[0m \u001b[0;34m*\u001b[0m \u001b[0;36m2\u001b[0m\u001b[0;34m\u001b[0m\u001b[0;34m\u001b[0m\u001b[0m\n\u001b[1;32m     30\u001b[0m \u001b[0;34m\u001b[0m\u001b[0m\n",
            "\u001b[0;31mNameError\u001b[0m: name 'j' is not defined"
          ]
        },
        {
          "output_type": "display_data",
          "data": {
            "image/png": "[encoded data removed]",
            "text/plain": [
              "<Figure size 360x360 with 1 Axes>"
            ]
          },
          "metadata": {
            "needs_background": "light"
          }
        }
      ],
      "source": [
        "for i, radius in enumerate(np.arange(0, 0.2, 0.01)):\n",
        "    r = np.ones((n, 1)) * radius\n",
        "    visualize_map(X, r, i, radius, True)"
      ]
    }
  ],
  "metadata": {
    "kernelspec": {
      "display_name": "Python 3",
      "language": "python",
      "name": "python3"
    },
    "language_info": {
      "codemirror_mode": {
        "name": "ipython",
        "version": 3
      },
      "file_extension": ".py",
      "mimetype": "text/x-python",
      "name": "python",
      "nbconvert_exporter": "python",
      "pygments_lexer": "ipython3",
      "version": "3.8.12"
    },
    "colab": {
      "name": "Copy of Interview - Research Paper Algorithm Implementation.ipynb",
      "provenance": [],
      "collapsed_sections": [],
      "include_colab_link": true
    }
  },
  "nbformat": 4,
  "nbformat_minor": 0
}